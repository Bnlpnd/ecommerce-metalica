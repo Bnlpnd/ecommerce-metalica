{
  "metadata": {
    "kernelspec": {
      "name": "python",
      "display_name": "Python (Pyodide)",
      "language": "python"
    },
    "language_info": {
      "codemirror_mode": {
        "name": "python",
        "version": 3
      },
      "file_extension": ".py",
      "mimetype": "text/x-python",
      "name": "python",
      "nbconvert_exporter": "python",
      "pygments_lexer": "ipython3",
      "version": "3.8"
    }
  },
  "nbformat_minor": 4,
  "nbformat": 4,
  "cells": [
    {
      "cell_type": "code",
      "source": "import pandas as pd",
      "metadata": {
        "trusted": true
      },
      "outputs": [],
      "execution_count": 1
    },
    {
      "cell_type": "code",
      "source": "print(pd.__version__)",
      "metadata": {
        "trusted": true
      },
      "outputs": [
        {
          "name": "stdout",
          "text": "1.5.3\n",
          "output_type": "stream"
        }
      ],
      "execution_count": 2
    },
    {
      "cell_type": "code",
      "source": "#cargar datos\ndf = pd.read_csv('datacotizacion.csv')",
      "metadata": {
        "trusted": true
      },
      "outputs": [],
      "execution_count": 3
    },
    {
      "cell_type": "code",
      "source": "print(df.head())",
      "metadata": {
        "trusted": true
      },
      "outputs": [
        {
          "name": "stdout",
          "text": "   idCotizacion fechaCotizacion  idTipo  idModelo  idAcabado  idSeguridad  \\\n0             1      11/10/2021       1         1          1            3   \n1             2      11/10/2021       1         1          1            3   \n2             3      11/10/2021       1         1          1            3   \n3             4      11/10/2021       1         1          1            3   \n4             5      11/10/2021       1         1          1            3   \n\n   alto  ancho  precioCotizacion  \n0   250     90               300  \n1   249     90               300  \n2   251     90               300  \n3   250     91               300  \n4   251     93               300  \n",
          "output_type": "stream"
        }
      ],
      "execution_count": 4
    },
    {
      "cell_type": "code",
      "source": "# Mostrar información básica sobre el DataFrame\nprint(df.info())",
      "metadata": {
        "trusted": true
      },
      "outputs": [
        {
          "name": "stdout",
          "text": "<class 'pandas.core.frame.DataFrame'>\nRangeIndex: 350 entries, 0 to 349\nData columns (total 9 columns):\n #   Column            Non-Null Count  Dtype \n---  ------            --------------  ----- \n 0   idCotizacion      350 non-null    int64 \n 1   fechaCotizacion   350 non-null    object\n 2   idTipo            350 non-null    int64 \n 3   idModelo          350 non-null    int64 \n 4   idAcabado         350 non-null    int64 \n 5   idSeguridad       350 non-null    int64 \n 6   alto              350 non-null    int64 \n 7   ancho             350 non-null    int64 \n 8   precioCotizacion  350 non-null    int64 \ndtypes: int64(8), object(1)\nmemory usage: 23.3+ KB\nNone\n",
          "output_type": "stream"
        }
      ],
      "execution_count": 5
    },
    {
      "cell_type": "code",
      "source": "# Identificar valores faltantes\nprint(df.isnull().sum())",
      "metadata": {
        "trusted": true
      },
      "outputs": [
        {
          "name": "stdout",
          "text": "idCotizacion        0\nfechaCotizacion     0\nidTipo              0\nidModelo            0\nidAcabado           0\nidSeguridad         0\nalto                0\nancho               0\nprecioCotizacion    0\ndtype: int64\n",
          "output_type": "stream"
        }
      ],
      "execution_count": 6
    },
    {
      "cell_type": "code",
      "source": "# Eliminar las columnas innecesarias\ncolumnas_a_eliminar = ['idCotizacion', 'fechaCotizacion']\ndf = df.drop(columns=columnas_a_eliminar)\n\n# Verificar que las columnas se hayan eliminado\nprint(df.columns)\n",
      "metadata": {
        "trusted": true
      },
      "outputs": [
        {
          "name": "stdout",
          "text": "Index(['idTipo', 'idModelo', 'idAcabado', 'idSeguridad', 'alto', 'ancho',\n       'precioCotizacion'],\n      dtype='object')\n",
          "output_type": "stream"
        }
      ],
      "execution_count": 7
    },
    {
      "cell_type": "code",
      "source": "# Mezclar los datos para evitar que los patrones en los datos ordenados afecten el rendimiento del modelo.\nfrom sklearn.utils import shuffle\ndf = shuffle(df, random_state=42)\n\n# Verificar que los datos se han mezclado\nprint(df.head())",
      "metadata": {
        "trusted": true
      },
      "outputs": [
        {
          "name": "stdout",
          "text": "     idTipo  idModelo  idAcabado  idSeguridad  alto  ancho  precioCotizacion\n157       4         7          1            2   232    260              1200\n341       7        12          2            2   260    400              3800\n315       6        11          2            2   350    260              8000\n234       4         9          1            1   260    260              1650\n155       4         7          1            2   240    260              1400\n",
          "output_type": "stream"
        }
      ],
      "execution_count": 8
    },
    {
      "cell_type": "code",
      "source": "# Insertar bibliotecas para el modelado\nfrom sklearn.model_selection import train_test_split\nfrom sklearn.linear_model import LinearRegression\nfrom sklearn.metrics import mean_squared_error, r2_score",
      "metadata": {
        "trusted": true
      },
      "outputs": [],
      "execution_count": 9
    },
    {
      "cell_type": "code",
      "source": "# Asignando el valor de las variables dependientes a X y las variabl dependiente a Y (precioCotizacion)\nx = df.drop(columns=['precioCotizacion'])\ny = df['precioCotizacion']",
      "metadata": {
        "trusted": true
      },
      "outputs": [],
      "execution_count": 10
    },
    {
      "cell_type": "code",
      "source": "# Se dividen los datos en 80% entrenamiento y 20% prueba\nx_train, x_test, y_train, y_test = train_test_split(x, y, test_size=0.2, random_state=42)",
      "metadata": {
        "trusted": true
      },
      "outputs": [],
      "execution_count": 11
    },
    {
      "cell_type": "code",
      "source": "# Crear el modelo de regresión lineal\nmodel = LinearRegression()\n\n# Entrenar el modelo\nmodel.fit(x_train, y_train)",
      "metadata": {
        "trusted": true
      },
      "outputs": [
        {
          "execution_count": 12,
          "output_type": "execute_result",
          "data": {
            "text/plain": "LinearRegression()",
            "text/html": "<style>#sk-container-id-1 {color: black;}#sk-container-id-1 pre{padding: 0;}#sk-container-id-1 div.sk-toggleable {background-color: white;}#sk-container-id-1 label.sk-toggleable__label {cursor: pointer;display: block;width: 100%;margin-bottom: 0;padding: 0.3em;box-sizing: border-box;text-align: center;}#sk-container-id-1 label.sk-toggleable__label-arrow:before {content: \"▸\";float: left;margin-right: 0.25em;color: #696969;}#sk-container-id-1 label.sk-toggleable__label-arrow:hover:before {color: black;}#sk-container-id-1 div.sk-estimator:hover label.sk-toggleable__label-arrow:before {color: black;}#sk-container-id-1 div.sk-toggleable__content {max-height: 0;max-width: 0;overflow: hidden;text-align: left;background-color: #f0f8ff;}#sk-container-id-1 div.sk-toggleable__content pre {margin: 0.2em;color: black;border-radius: 0.25em;background-color: #f0f8ff;}#sk-container-id-1 input.sk-toggleable__control:checked~div.sk-toggleable__content {max-height: 200px;max-width: 100%;overflow: auto;}#sk-container-id-1 input.sk-toggleable__control:checked~label.sk-toggleable__label-arrow:before {content: \"▾\";}#sk-container-id-1 div.sk-estimator input.sk-toggleable__control:checked~label.sk-toggleable__label {background-color: #d4ebff;}#sk-container-id-1 div.sk-label input.sk-toggleable__control:checked~label.sk-toggleable__label {background-color: #d4ebff;}#sk-container-id-1 input.sk-hidden--visually {border: 0;clip: rect(1px 1px 1px 1px);clip: rect(1px, 1px, 1px, 1px);height: 1px;margin: -1px;overflow: hidden;padding: 0;position: absolute;width: 1px;}#sk-container-id-1 div.sk-estimator {font-family: monospace;background-color: #f0f8ff;border: 1px dotted black;border-radius: 0.25em;box-sizing: border-box;margin-bottom: 0.5em;}#sk-container-id-1 div.sk-estimator:hover {background-color: #d4ebff;}#sk-container-id-1 div.sk-parallel-item::after {content: \"\";width: 100%;border-bottom: 1px solid gray;flex-grow: 1;}#sk-container-id-1 div.sk-label:hover label.sk-toggleable__label {background-color: #d4ebff;}#sk-container-id-1 div.sk-serial::before {content: \"\";position: absolute;border-left: 1px solid gray;box-sizing: border-box;top: 0;bottom: 0;left: 50%;z-index: 0;}#sk-container-id-1 div.sk-serial {display: flex;flex-direction: column;align-items: center;background-color: white;padding-right: 0.2em;padding-left: 0.2em;position: relative;}#sk-container-id-1 div.sk-item {position: relative;z-index: 1;}#sk-container-id-1 div.sk-parallel {display: flex;align-items: stretch;justify-content: center;background-color: white;position: relative;}#sk-container-id-1 div.sk-item::before, #sk-container-id-1 div.sk-parallel-item::before {content: \"\";position: absolute;border-left: 1px solid gray;box-sizing: border-box;top: 0;bottom: 0;left: 50%;z-index: -1;}#sk-container-id-1 div.sk-parallel-item {display: flex;flex-direction: column;z-index: 1;position: relative;background-color: white;}#sk-container-id-1 div.sk-parallel-item:first-child::after {align-self: flex-end;width: 50%;}#sk-container-id-1 div.sk-parallel-item:last-child::after {align-self: flex-start;width: 50%;}#sk-container-id-1 div.sk-parallel-item:only-child::after {width: 0;}#sk-container-id-1 div.sk-dashed-wrapped {border: 1px dashed gray;margin: 0 0.4em 0.5em 0.4em;box-sizing: border-box;padding-bottom: 0.4em;background-color: white;}#sk-container-id-1 div.sk-label label {font-family: monospace;font-weight: bold;display: inline-block;line-height: 1.2em;}#sk-container-id-1 div.sk-label-container {text-align: center;}#sk-container-id-1 div.sk-container {/* jupyter's `normalize.less` sets `[hidden] { display: none; }` but bootstrap.min.css set `[hidden] { display: none !important; }` so we also need the `!important` here to be able to override the default hidden behavior on the sphinx rendered scikit-learn.org. See: https://github.com/scikit-learn/scikit-learn/issues/21755 */display: inline-block !important;position: relative;}#sk-container-id-1 div.sk-text-repr-fallback {display: none;}</style><div id=\"sk-container-id-1\" class=\"sk-top-container\"><div class=\"sk-text-repr-fallback\"><pre>LinearRegression()</pre><b>In a Jupyter environment, please rerun this cell to show the HTML representation or trust the notebook. <br />On GitHub, the HTML representation is unable to render, please try loading this page with nbviewer.org.</b></div><div class=\"sk-container\" hidden><div class=\"sk-item\"><div class=\"sk-estimator sk-toggleable\"><input class=\"sk-toggleable__control sk-hidden--visually\" id=\"sk-estimator-id-1\" type=\"checkbox\" checked><label for=\"sk-estimator-id-1\" class=\"sk-toggleable__label sk-toggleable__label-arrow\">LinearRegression</label><div class=\"sk-toggleable__content\"><pre>LinearRegression()</pre></div></div></div></div></div>"
          },
          "metadata": {}
        }
      ],
      "execution_count": 12
    },
    {
      "cell_type": "code",
      "source": "# Predecir los valores del conjunto de prueba\ny_pred = model.predict(x_test)",
      "metadata": {
        "trusted": true
      },
      "outputs": [],
      "execution_count": 13
    },
    {
      "cell_type": "code",
      "source": "# Calcular el error cuadrático medio y el coeficiente de determinación (R^2)\nmse = mean_squared_error(y_test, y_pred)\nr2 = r2_score(y_test, y_pred)",
      "metadata": {
        "trusted": true
      },
      "outputs": [],
      "execution_count": 14
    },
    {
      "cell_type": "code",
      "source": "print(f'Error Cuadrático Medio (MSE): {mse}')",
      "metadata": {
        "trusted": true
      },
      "outputs": [
        {
          "name": "stdout",
          "text": "Error Cuadrático Medio (MSE): 677460.0126271279\n",
          "output_type": "stream"
        }
      ],
      "execution_count": 15
    },
    {
      "cell_type": "code",
      "source": "print(f'Coeficiente de Determinación (R^2): {r2}')",
      "metadata": {
        "trusted": true
      },
      "outputs": [
        {
          "name": "stdout",
          "text": "Coeficiente de Determinación (R^2): 0.8921586044112044\n",
          "output_type": "stream"
        }
      ],
      "execution_count": 16
    },
    {
      "cell_type": "code",
      "source": "#verificar la cantidad de datos que sirven para entrenamiento y para testeo del total de 350 datos\nprint(f'x_train shape: {x_train.shape}') #80% para entrenamiento\nprint(f'x_test shape: {x_test.shape}') #20% para testeo\nprint(f'y_train shape: {y_train.shape}')\nprint(f'y_test shape: {y_test.shape}')",
      "metadata": {
        "trusted": true
      },
      "outputs": [
        {
          "name": "stdout",
          "text": "x_train shape: (280, 6)\nx_test shape: (70, 6)\ny_train shape: (280,)\ny_test shape: (70,)\n",
          "output_type": "stream"
        }
      ],
      "execution_count": 18
    },
    {
      "cell_type": "code",
      "source": "from sklearn.model_selection import cross_val_score\n\n# Realizar validación cruzada con 5 divisiones\ncv_scores = cross_val_score(model, x, y, cv=5, scoring='neg_mean_squared_error')\n\n# Convertir los puntajes negativos a positivos\ncv_scores = -cv_scores\n\nprint(f'Cross-Validation MSE scores: {cv_scores}')\nprint(f'Average Cross-Validation MSE: {cv_scores.mean()}')",
      "metadata": {
        "trusted": true
      },
      "outputs": [
        {
          "name": "stdout",
          "text": "Cross-Validation MSE scores: [ 925478.5958404  1264938.22198203 1745090.88721869  913909.6939993\n 1704851.50823292]\nAverage Cross-Validation MSE: 1310853.7814546693\n",
          "output_type": "stream"
        }
      ],
      "execution_count": 19
    },
    {
      "cell_type": "code",
      "source": "# Calcular la varianza\nvarianza = y.var()\nprint(f'Varianza de la variable objetivo (precio): {varianza}')",
      "metadata": {
        "trusted": true
      },
      "outputs": [
        {
          "name": "stdout",
          "text": "Varianza de la variable objetivo (precio): 6481981.157011871\n",
          "output_type": "stream"
        }
      ],
      "execution_count": 20
    },
    {
      "cell_type": "code",
      "source": "# Guardar el modelo entrenado en un archivo\nimport joblib\njoblib.dump(model, 'modelo_regresion_lineal.pkl')",
      "metadata": {
        "trusted": true
      },
      "outputs": [
        {
          "execution_count": 21,
          "output_type": "execute_result",
          "data": {
            "text/plain": "['modelo_regresion_lineal.pkl']"
          },
          "metadata": {}
        }
      ],
      "execution_count": 21
    },
    {
      "cell_type": "code",
      "source": "",
      "metadata": {
        "trusted": true
      },
      "outputs": [],
      "execution_count": null
    }
  ]
}